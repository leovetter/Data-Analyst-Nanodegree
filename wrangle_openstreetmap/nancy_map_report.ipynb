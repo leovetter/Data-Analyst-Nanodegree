{
 "cells": [
  {
   "cell_type": "markdown",
   "metadata": {
    "collapsed": false,
    "scrolled": false
   },
   "source": [
    "<h1 align=\"center\"><font color=\"#000066\" size=\"6\">OpenStreetMap Data Wrangling Project</font></h1> "
   ]
  },
  {
   "cell_type": "markdown",
   "metadata": {
    "collapsed": true
   },
   "source": [
    "# 1. Problems Encountered in the Map\n",
    "\n",
    "The major problem I encountered was that different names was used for the same city or the same street. For instance the city \"Vandoeuvre-lès-Nancy\" had these four differents spellings :\n",
    "* Vandoeuvre-les-Nancy\n",
    "* Vandoeuvre-lès-Nancy\n",
    "* Vandœuvre-lès-Nancy\n",
    "* Vandoeuvre les Nancy\n",
    "So I made sure to update these names to an common name before inserting them into mongodb. \n",
    "\n",
    "I didn't need to parse any other attributes as they were already in a correct format (date was in a format understandable by mongodb, postcode was accurate...).\n",
    "\n",
    "# 2 Data Overview\n",
    "\n",
    "#### size of the file :\n",
    "\n",
    "  nancy_france.osm : 148M\n",
    "\n",
    "#### number of unique users : \n",
    "\n",
    "```\n",
    "> db.nodes.distinct('created.user').length\n",
    "256\n",
    "```\n",
    "   \n",
    "#### number of nodes : \n",
    "\n",
    "```\n",
    "> db.nodes.count()\n",
    "624594\n",
    "```\n",
    "   \n",
    "#### number of ways : \n",
    "\n",
    "```\n",
    "> db.ways.count() \n",
    "113654 \n",
    "```\n",
    "   \n",
    "#### Number of different cities :\n",
    "\n",
    "```\n",
    "> db.nodes.distinct('address.city', {}).length\n",
    "8\n",
    "```\n",
    "\n",
    "#### \n",
    "   \n",
    "# 3 Other ideas\n",
    "\n",
    "\n",
    "I wanted to compute some statistics for each city such as the number of house or street by city but as shown by the following query most of the nodes have no city assigned :\n",
    "\n",
    "```\n",
    "> db.nodes.group( { key: {'address.city':1}, reduce: function ( curr, result ) { result.total++; }, initial: { total : 0 } } )\n",
    "   \n",
    "   {\n",
    "\t\t\"address.city\" : null,\n",
    "\t\t\"total\" : 624577\n",
    "\t},\n",
    "\t{\n",
    "\t\t\"address.city\" : \"Maxéville\",\n",
    "\t\t\"total\" : 1\n",
    "\t},\n",
    "\t{\n",
    "\t\t\"address.city\" : \"Villers-lès-Nancy\",\n",
    "\t\t\"total\" : 1\n",
    "\t},\n",
    "\t.\n",
    "    .\n",
    "    .\n",
    "]\n",
    "```\n",
    "\n",
    "So an improvement over the data could be to correctly assign to each node its city. To do that the location (latitude and longitude) stored with each node could be used. \n",
    "\n",
    "   \n",
    "   \n",
    "    \n",
    "   \n",
    "   \n",
    "\n",
    "\n"
   ]
  }
 ],
 "metadata": {
  "kernelspec": {
   "display_name": "Python 3",
   "language": "python",
   "name": "python3"
  },
  "language_info": {
   "codemirror_mode": {
    "name": "ipython",
    "version": 3
   },
   "file_extension": ".py",
   "mimetype": "text/x-python",
   "name": "python",
   "nbconvert_exporter": "python",
   "pygments_lexer": "ipython3",
   "version": "3.5.1"
  }
 },
 "nbformat": 4,
 "nbformat_minor": 0
}
