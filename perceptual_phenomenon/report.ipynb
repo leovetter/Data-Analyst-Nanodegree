{
 "cells": [
  {
   "cell_type": "markdown",
   "metadata": {},
   "source": [
    "# Experiment Variables\n",
    "\n",
    "The depedent variable is the time taken to name the ink colors. The independent variables are the ink color and the word displayed.\n",
    "\n",
    "# Establish a hypothesis and statistical test\n",
    "\n",
    "\n",
    "For this experiment we would like to investigate if color names printed in a different color impact on the respone time of the participants when compared to color names printed in the same color.\n",
    "\n",
    "Statistical units for this test are tested twice (one time for the congruent words condition and one time for the incongruent words condition) so we are dealing with a dependant t-test for paired samples. For this test the difference in the response time between the two conditions has to be calculated for each unit.  \n",
    "\n",
    "Null hypothesis : There is no impact. The average answer time for a population presented with congruent words is equal to the average answer time for a population presented with incongruent words. So the average difference in the response time between the two condition is null. &micro;0 = 0 where &micro;0 represent the average difference in the response time under the null hypothesis.\n",
    "\n",
    "Alternative hypothese : There is an impact. The average answer time for a population presented with incongruent words is superior to the average answer time for a population presented with congruent words. Consequently the average difference in the response time between the incongruent condition and the congruent condition is positif. &micro;1 > 0\n",
    "where &micro;1 represent the average difference in the response time under the alternative hypothesis.\n",
    "\n",
    "For this statistical test the purpose is to compare two populations mean. Welch's t test is the appropriate statistical test for this task. Since we are only considering that the average response time for the incongruent words condition might be superior to the average response time for the congruent words condition we are performing a one tailed test. \n",
    "\n",
    "Also our population size is < 30 and we don't know the population standard deviation so we will use a t score to carry out the test.\n",
    "\n",
    "Welch's t test assume that the two populations are normally distributed however their variances do not need to be equal.\n",
    "\n",
    "The significance level is set at &alpha; = 0.01 so that we only have a 1% chance of making a Type 1 error\n",
    "\n",
    "\n",
    "#  Descriptive statistics\n"
   ]
  },
  {
   "cell_type": "code",
   "execution_count": 3,
   "metadata": {
    "collapsed": false,
    "scrolled": true
   },
   "outputs": [
    {
     "name": "stdout",
     "output_type": "stream",
     "text": [
      "Populating the interactive namespace from numpy and matplotlib\n",
      "\n",
      "For the congruent word condition the mean time is 14.051125 and the standart deviation is 3.559358.\n",
      "For the incongruent word condition the mean time is 22.015917 and the standart deviation is 4.797057.\n"
     ]
    }
   ],
   "source": [
    "%pylab inline\n",
    "import pandas as pd\n",
    "import matplotlib.pyplot as plt\n",
    "\n",
    "stroop_data_frame = pd.read_csv('stroopdata.csv')\n",
    "congruent_serie = stroop_data_frame['Congruent']\n",
    "incongruent_serie = stroop_data_frame['Incongruent']\n",
    "\n",
    "nb_congruent_serie = len(congruent_serie)\n",
    "nb_incongruent_serie = len(incongruent_serie)\n",
    "\n",
    "mean_congruent = congruent_serie.mean()\n",
    "std_congruent = congruent_serie.std()\n",
    "\n",
    "mean_incongruent = incongruent_serie.mean()\n",
    "std_incongruent = incongruent_serie.std()\n",
    "\n",
    "print('\\nFor the congruent word condition the mean time is %f and the standart deviation is %f.' % (mean_congruent, std_congruent))\n",
    "print('For the incongruent word condition the mean time is %f and the standart deviation is %f.' % (mean_incongruent, std_incongruent))"
   ]
  },
  {
   "cell_type": "markdown",
   "metadata": {},
   "source": [
    "# Data Visualization"
   ]
  },
  {
   "cell_type": "code",
   "execution_count": 5,
   "metadata": {
    "collapsed": false
   },
   "outputs": [
    {
     "data": {
      "text/plain": [
       "<matplotlib.text.Text at 0x106f41278>"
      ]
     },
     "execution_count": 5,
     "metadata": {},
     "output_type": "execute_result"
    },
    {
     "data": {
      "image/png": "[encoded data removed]",
      "text/plain": [
       "<matplotlib.figure.Figure at 0x106f41320>"
      ]
     },
     "metadata": {},
     "output_type": "display_data"
    },
    {
     "data": {
      "image/png": "[encoded data removed]",
      "text/plain": [
       "<matplotlib.figure.Figure at 0x106f413c8>"
      ]
     },
     "metadata": {},
     "output_type": "display_data"
    }
   ],
   "source": [
    "import pylab as pl\n",
    "\n",
    "ax = stroop_data_frame.plot(kind='box', title='Boxplot for congruant and incongruent words conditions')\n",
    "ax.set_ylabel(\"Time Taken\")\n",
    "\n",
    "ax = stroop_data_frame.hist()\n",
    "pl.suptitle(\"Distribution of time taken for congruant and incongruent words conditions\", fontsize=15, y=1.08)"
   ]
  },
  {
   "cell_type": "markdown",
   "metadata": {},
   "source": [
    "From the plot displaying the data distribution we can observe that the data are not following a normal distribution. Therefore this test might not be very robust."
   ]
  },
  {
   "cell_type": "markdown",
   "metadata": {},
   "source": [
    "# Statistical Test and Results Interpretation"
   ]
  },
  {
   "cell_type": "code",
   "execution_count": 16,
   "metadata": {
    "collapsed": false
   },
   "outputs": [
    {
     "name": "stdout",
     "output_type": "stream",
     "text": [
      "\n",
      "The T-statistic for this test is : 8.020707\n",
      "Given that the size of the sample is 24 the degrees of freedom is 23\n"
     ]
    }
   ],
   "source": [
    "from scipy.stats import ttest_ind\n",
    "import numpy as np\n",
    "\n",
    "tstat = (mean_incongruent - mean_congruent) / ( (incongruent_serie - congruent_serie).std() / np.sqrt(nb_congruent_serie) )\n",
    "\n",
    "print('\\nThe T-statistic for this test is : %f' % (tstat,))\n",
    "print('Given that the size of the sample is %d the degrees of freedom is %d' % (nb_congruent_serie, nb_congruent_serie-1))"
   ]
  },
  {
   "cell_type": "markdown",
   "metadata": {},
   "source": [
    "Given that we are performing a one sided t-test with a significance level of 0.01 the critical value found using a t-table is 2.5.\n",
    "\n",
    "We can observe that the t test computed 8.020707 is above the critical value 2.5 so we can reject the null hypothesis and claim that the average time taken to name the ink colors with incongruent words condition is superior to the average time taken to name the ink colors with congruent words condition\n",
    "\n",
    "This result is the one I expected since the incongruent condition bring naturally some confusion into the participant mind and therefore slow down its response time. "
   ]
  },
  {
   "cell_type": "markdown",
   "metadata": {},
   "source": [
    "# References\n",
    "\n",
    "1. http://pandas.pydata.org/pandas-docs/stable/visualization.html\n",
    "2. https://en.wikipedia.org/wiki/Student%27s_t-test#Dependent_t-test_for_paired_samples"
   ]
  }
 ],
 "metadata": {
  "kernelspec": {
   "display_name": "Python 3",
   "language": "python",
   "name": "python3"
  },
  "language_info": {
   "codemirror_mode": {
    "name": "ipython",
    "version": 3
   },
   "file_extension": ".py",
   "mimetype": "text/x-python",
   "name": "python",
   "nbconvert_exporter": "python",
   "pygments_lexer": "ipython3",
   "version": "3.5.1"
  }
 },
 "nbformat": 4,
 "nbformat_minor": 0
}
