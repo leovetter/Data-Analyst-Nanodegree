{
 "cells": [
  {
   "cell_type": "markdown",
   "metadata": {},
   "source": [
    "<h1 align=\"center\"><font color=\"#000066\" size=\"6\">Investigation of the Titanic dataset</font></h1> "
   ]
  },
  {
   "cell_type": "markdown",
   "metadata": {},
   "source": [
    "# Data Discovery"
   ]
  },
  {
   "cell_type": "code",
   "execution_count": 2,
   "metadata": {
    "collapsed": false
   },
   "outputs": [
    {
     "data": {
      "text/html": [
       "<div>\n",
       "<table border=\"1\" class=\"dataframe\">\n",
       "  <thead>\n",
       "    <tr style=\"text-align: right;\">\n",
       "      <th></th>\n",
       "      <th>PassengerId</th>\n",
       "      <th>Survived</th>\n",
       "      <th>Pclass</th>\n",
       "      <th>Name</th>\n",
       "      <th>Sex</th>\n",
       "      <th>Age</th>\n",
       "      <th>SibSp</th>\n",
       "      <th>Parch</th>\n",
       "      <th>Ticket</th>\n",
       "      <th>Fare</th>\n",
       "      <th>Cabin</th>\n",
       "      <th>Embarked</th>\n",
       "    </tr>\n",
       "  </thead>\n",
       "  <tbody>\n",
       "    <tr>\n",
       "      <th>0</th>\n",
       "      <td>1</td>\n",
       "      <td>0</td>\n",
       "      <td>3</td>\n",
       "      <td>Braund, Mr. Owen Harris</td>\n",
       "      <td>male</td>\n",
       "      <td>22</td>\n",
       "      <td>1</td>\n",
       "      <td>0</td>\n",
       "      <td>A/5 21171</td>\n",
       "      <td>7.2500</td>\n",
       "      <td>NaN</td>\n",
       "      <td>S</td>\n",
       "    </tr>\n",
       "    <tr>\n",
       "      <th>1</th>\n",
       "      <td>2</td>\n",
       "      <td>1</td>\n",
       "      <td>1</td>\n",
       "      <td>Cumings, Mrs. John Bradley (Florence Briggs Th...</td>\n",
       "      <td>female</td>\n",
       "      <td>38</td>\n",
       "      <td>1</td>\n",
       "      <td>0</td>\n",
       "      <td>PC 17599</td>\n",
       "      <td>71.2833</td>\n",
       "      <td>C85</td>\n",
       "      <td>C</td>\n",
       "    </tr>\n",
       "    <tr>\n",
       "      <th>2</th>\n",
       "      <td>3</td>\n",
       "      <td>1</td>\n",
       "      <td>3</td>\n",
       "      <td>Heikkinen, Miss. Laina</td>\n",
       "      <td>female</td>\n",
       "      <td>26</td>\n",
       "      <td>0</td>\n",
       "      <td>0</td>\n",
       "      <td>STON/O2. 3101282</td>\n",
       "      <td>7.9250</td>\n",
       "      <td>NaN</td>\n",
       "      <td>S</td>\n",
       "    </tr>\n",
       "    <tr>\n",
       "      <th>3</th>\n",
       "      <td>4</td>\n",
       "      <td>1</td>\n",
       "      <td>1</td>\n",
       "      <td>Futrelle, Mrs. Jacques Heath (Lily May Peel)</td>\n",
       "      <td>female</td>\n",
       "      <td>35</td>\n",
       "      <td>1</td>\n",
       "      <td>0</td>\n",
       "      <td>113803</td>\n",
       "      <td>53.1000</td>\n",
       "      <td>C123</td>\n",
       "      <td>S</td>\n",
       "    </tr>\n",
       "    <tr>\n",
       "      <th>4</th>\n",
       "      <td>5</td>\n",
       "      <td>0</td>\n",
       "      <td>3</td>\n",
       "      <td>Allen, Mr. William Henry</td>\n",
       "      <td>male</td>\n",
       "      <td>35</td>\n",
       "      <td>0</td>\n",
       "      <td>0</td>\n",
       "      <td>373450</td>\n",
       "      <td>8.0500</td>\n",
       "      <td>NaN</td>\n",
       "      <td>S</td>\n",
       "    </tr>\n",
       "  </tbody>\n",
       "</table>\n",
       "</div>"
      ],
      "text/plain": [
       "   PassengerId  Survived  Pclass  \\\n",
       "0            1         0       3   \n",
       "1            2         1       1   \n",
       "2            3         1       3   \n",
       "3            4         1       1   \n",
       "4            5         0       3   \n",
       "\n",
       "                                                Name     Sex  Age  SibSp  \\\n",
       "0                            Braund, Mr. Owen Harris    male   22      1   \n",
       "1  Cumings, Mrs. John Bradley (Florence Briggs Th...  female   38      1   \n",
       "2                             Heikkinen, Miss. Laina  female   26      0   \n",
       "3       Futrelle, Mrs. Jacques Heath (Lily May Peel)  female   35      1   \n",
       "4                           Allen, Mr. William Henry    male   35      0   \n",
       "\n",
       "   Parch            Ticket     Fare Cabin Embarked  \n",
       "0      0         A/5 21171   7.2500   NaN        S  \n",
       "1      0          PC 17599  71.2833   C85        C  \n",
       "2      0  STON/O2. 3101282   7.9250   NaN        S  \n",
       "3      0            113803  53.1000  C123        S  \n",
       "4      0            373450   8.0500   NaN        S  "
      ]
     },
     "execution_count": 2,
     "metadata": {},
     "output_type": "execute_result"
    }
   ],
   "source": [
    "import pandas as pd\n",
    "\n",
    "# import titanic data from csv file \n",
    "titanic_data = pd.read_csv('titanic_data.csv')\n",
    "\n",
    "# Show the first rows of the table\n",
    "titanic_data.head()"
   ]
  },
  {
   "cell_type": "code",
   "execution_count": 3,
   "metadata": {
    "collapsed": false
   },
   "outputs": [
    {
     "name": "stdout",
     "output_type": "stream",
     "text": [
      "<class 'pandas.core.frame.DataFrame'>\n",
      "Int64Index: 891 entries, 0 to 890\n",
      "Data columns (total 12 columns):\n",
      "PassengerId    891 non-null int64\n",
      "Survived       891 non-null int64\n",
      "Pclass         891 non-null int64\n",
      "Name           891 non-null object\n",
      "Sex            891 non-null object\n",
      "Age            714 non-null float64\n",
      "SibSp          891 non-null int64\n",
      "Parch          891 non-null int64\n",
      "Ticket         891 non-null object\n",
      "Fare           891 non-null float64\n",
      "Cabin          204 non-null object\n",
      "Embarked       889 non-null object\n",
      "dtypes: float64(2), int64(5), object(5)\n",
      "memory usage: 90.5+ KB\n"
     ]
    }
   ],
   "source": [
    "# Show basic info about the titanic data\n",
    "titanic_data.info()"
   ]
  },
  {
   "cell_type": "markdown",
   "metadata": {
    "collapsed": true
   },
   "source": [
    "# Statistical Test Formulation\n",
    "\n",
    "I'm interested to know if members of different Pclass have different chance to survive. in other word I want to know if the *Pclass* variable and the *Survived* variable are independent. I'm also interested in knowing if people of different sex have different chance to survive. (*Sex* variable and *Survived* variable are indepedent)\n",
    "\n",
    "To reach a conclusion I will perform twice the same test. The first time with the *Survived* variable as the dependant variable and the second time with the *Sex* variable as the dependant variable. For both test the independent variable is the *Pclass* variable. \n",
    "\n",
    "The variables affected in this test are categorical variables and we are comparing proportions so a suited statistical test for this task is a chi-squared test.\n",
    "\n",
    "**Null hypothesis :** The survival rate is independent of the class (of the sex for the second test). In proportion the number of people who survived is equivalent for each class (for each sex). p1 = p2 = p3 where p1, p2, p3 represent the proportions respectively for the class 1, 2 and 3. (p4 = p5 where p4, p5 represent the the proportions respectively for the male and female)\n",
    "\n",
    "**Alternative hypothesis :** The survival rate is dependent of the class (of the sex). In proportion the number of people who survived is different between class (between the two sex). p1 &ne; p2 &ne; p3 (p4 &ne; p5)\n",
    "\n",
    "**Assumption** : \n",
    "* Expected proportions are large enough (>5).\n",
    "* Each observation is independant of others. \n",
    "\n",
    "We set the significance level to be 0.1 for both tests. Given that we are considering a chi-squared test we are dealing with a one-sided test.\n",
    "\n",
    "\n",
    "# Exploratory Data Analysis\n",
    "\n",
    "Since we are only interested by the *Pclass* variable and the *Survived* variable I first create a second dataframe to keep only these variables. For the rest of the analysis I only consider this dataframe.\n",
    "\n",
    "From the Data Discovery step we can observe that the two variables don't contain null values so we don't need to perform additional steps to clean the data. "
   ]
  },
  {
   "cell_type": "code",
   "execution_count": 45,
   "metadata": {
    "collapsed": false,
    "scrolled": true
   },
   "outputs": [
    {
     "name": "stdout",
     "output_type": "stream",
     "text": [
      "\n",
      "\n",
      "\n",
      "\n",
      "\n",
      "\n"
     ]
    },
    {
     "data": {
      "text/plain": [
       "<matplotlib.text.Text at 0x1102f0550>"
      ]
     },
     "execution_count": 45,
     "metadata": {},
     "output_type": "execute_result"
    },
    {
     "data": {
      "image/png": "[encoded data removed]",
      "text/plain": [
       "<matplotlib.figure.Figure at 0x110ca12e8>"
      ]
     },
     "metadata": {},
     "output_type": "display_data"
    },
    {
     "data": {
      "image/png": "[encoded data removed]",
      "text/plain": [
       "<matplotlib.figure.Figure at 0x111138780>"
      ]
     },
     "metadata": {},
     "output_type": "display_data"
    },
    {
     "data": {
      "image/png": "[encoded data removed]",
      "text/plain": [
       "<matplotlib.figure.Figure at 0x110ac5f60>"
      ]
     },
     "metadata": {},
     "output_type": "display_data"
    }
   ],
   "source": [
    "# %pylab inline\n",
    "%matplotlib inline\n",
    "import matplotlib.pyplot as plt\n",
    "from statsmodels.graphics.mosaicplot import mosaic\n",
    "import numpy as np\n",
    "\n",
    "# Create a new dataframe with only data used in the rest of the analysis\n",
    "reduce_titanic_data = pd.DataFrame()\n",
    "reduce_titanic_data['Survived'] = pd.Series(pd.Categorical.from_codes(titanic_data['Survived'], categories=[\"Died\", \"Survived\"]))\n",
    "reduce_titanic_data['Pclass'] = titanic_data['Pclass']\n",
    "reduce_titanic_data['Age'] = titanic_data['Age']\n",
    "reduce_titanic_data['Sex'] = titanic_data['Sex']\n",
    "print('\\n')\n",
    "\n",
    "# Code to display barplot \n",
    "fig = plt.figure(figsize=(15,5))\n",
    "\n",
    "fig.suptitle(\"Observations on the number of passenger that survived and for each class\", fontsize=14, y=1.05)\n",
    "ax = plt.subplot2grid((1,3), (0,0))\n",
    "plt.bar(np.unique(reduce_titanic_data['Pclass']), reduce_titanic_data['Pclass'].value_counts(), align='center')\n",
    "plt.xticks(np.unique(reduce_titanic_data['Pclass']), ['Class 3', 'Class 1', 'Class 2'])\n",
    "plt.title('Number of Passengers by Class')\n",
    "\n",
    "ax = plt.subplot2grid((1,3), (0,2))\n",
    "plt.bar([1,2], reduce_titanic_data['Survived'].value_counts(), align='center')\n",
    "plt.xticks([1,2], ['Died', 'Survived'])\n",
    "plt.title('Number of Passengers that survived and died')\n",
    "\n",
    "plt.tight_layout()\n",
    "print('\\n')\n",
    "\n",
    "\n",
    "# Code to display boxplot about the distribution of ages\n",
    "ax = reduce_titanic_data.boxplot('Age', 'Survived')\n",
    "ax.set_title('Distribution of Age for people that died and lived')\n",
    "ax.set_ylabel('Age')\n",
    "ax.set_xlabel('')\n",
    "fig = ax.get_figure()\n",
    "fig.suptitle(\"Observations on the ages of passengers\", fontsize=14, y=1.05)\n",
    "print('\\n')\n",
    "\n",
    "# Compute a cross-tabulation of Survived and Pclass variables\n",
    "crosstab_class = pd.crosstab(reduce_titanic_data['Survived'], reduce_titanic_data['Pclass'])\n",
    "\n",
    "# Compute a cross-tabulation of Survived and Sex variables\n",
    "crosstab_sex = pd.crosstab(reduce_titanic_data['Survived'], reduce_titanic_data['Sex'])\n",
    "\n",
    "# Code to display mosaic plot \n",
    "fig = plt.figure(figsize=(15,5))\n",
    "fig.suptitle(\"Observations on the proportions of passengers that survived given their sex and class\", fontsize=14, y=1.05)\n",
    "\n",
    "ax = plt.subplot2grid((1,3), (0,0))\n",
    "labelizer = lambda k: {('1', 'Died'): round(crosstab_class[1][0]/(crosstab_class[1][0] + crosstab_class[1][1]),3), ('1', 'Survived'): round(crosstab_class[1][1]/(crosstab_class[1][0] + crosstab_class[1][1]),3),\n",
    "                       ('2', 'Died'): round(crosstab_class[2][0]/(crosstab_class[2][0] + crosstab_class[2][1]),3),('2', 'Survived'): round(crosstab_class[2][1]/(crosstab_class[2][0] + crosstab_class[2][1]),3), \n",
    "                       ('3', 'Died'): round(crosstab_class[3][0]/(crosstab_class[3][0] + crosstab_class[3][1]),3), ('3', 'Survived'): round(crosstab_class[3][1]/(crosstab_class[3][0] + crosstab_class[3][1]),3) }[k]\n",
    "mos1 = mosaic(reduce_titanic_data, ['Pclass', 'Survived'], title='Proportion of Passenger Survival by PClass',\n",
    "             labelizer=labelizer, ax=ax)\n",
    "ax.set_xlabel('Class')\n",
    "\n",
    "ax = plt.subplot2grid((1,3), (0,2))\n",
    "labelizer = lambda k: {('female', 'Died'): round(crosstab_sex['female'][0]/(crosstab_sex['female'][0] + crosstab_sex['female'][1]),3), ('female', 'Survived'): round(crosstab_sex['female'][1]/(crosstab_sex['female'][0] + crosstab_sex['female'][1]),3),\n",
    "                       ('male', 'Died'): round(crosstab_sex['male'][0]/(crosstab_sex['male'][0] + crosstab_sex['male'][1]),3),('male', 'Survived'): round(crosstab_sex['male'][1]/(crosstab_sex['male'][0] + crosstab_sex['male'][1]),3)}[k]\n",
    "mos2 = mosaic(reduce_titanic_data, ['Sex', 'Survived'], title='Proportion of Passenger Survival by Sex',\n",
    "              labelizer=labelizer, ax=ax)\n",
    "ax.set_xlabel('Sex')\n",
    "\n"
   ]
  },
  {
   "cell_type": "markdown",
   "metadata": {
    "variables": {
     "crosstab_class.sum().sum()": "891",
     "crosstab_class[1][0]": "80",
     "crosstab_class[1][0] + crosstab_class[1][1]": "216",
     "crosstab_class[1][0] + crosstab_class[2][0] + crosstab_class[3][0]": "549",
     "crosstab_class[1][1]": "136",
     "crosstab_class[1][1] + crosstab_class[2][1] + crosstab_class[3][1]": "342",
     "crosstab_class[2][0]": "97",
     "crosstab_class[2][0] + crosstab_class[2][1]": "184",
     "crosstab_class[2][1]": "87",
     "crosstab_class[3][0]": "372",
     "crosstab_class[3][0] + crosstab_class[3][1]": "491",
     "crosstab_class[3][1]": "119",
     "crosstab_sex['female'][0]": "81",
     "crosstab_sex['female'][0] + crosstab_sex['female'][1]": "314",
     "crosstab_sex['female'][0] + crosstab_sex['male'][0]": "549",
     "crosstab_sex['female'][1]": "233",
     "crosstab_sex['female'][1] + crosstab_sex['male'][1]": "342",
     "crosstab_sex['male'][0]": "468",
     "crosstab_sex['male'][0] + crosstab_sex['male'][1]": "577",
     "crosstab_sex['male'][1]": "109"
    }
   },
   "source": [
    "                                    Contingency Table for the Pclass and Survived variable \n",
    "\n",
    "| Class 1  | Class 2 | Class 3 | Total\n",
    ":-----: | :--------: | :-------: | :-------: | :-----:\n",
    "**Died**| {{crosstab_class[1][0]}}  | {{crosstab_class[2][0]}} | {{crosstab_class[3][0]}} | {{crosstab_class[1][0] + crosstab_class[2][0] + crosstab_class[3][0]}}\n",
    "**Survived** | {{crosstab_class[1][1]}}  | {{crosstab_class[2][1]}} | {{crosstab_class[3][1]}} | {{crosstab_class[1][1] + crosstab_class[2][1] + crosstab_class[3][1]}}\n",
    "**Total** | {{crosstab_class[1][0] + crosstab_class[1][1]}} | {{crosstab_class[2][0] + crosstab_class[2][1]}} | {{crosstab_class[3][0] + crosstab_class[3][1]}} | {{crosstab_class.sum().sum()}}\n",
    "\n",
    "                                      Contingency Table for the Sex and Survived variable\n",
    "| Female  | Male | Total\n",
    ":-----: | :--------: | :-------: | :-----:\n",
    "**Died**| {{crosstab_sex['female'][0]}}  | {{crosstab_sex['male'][0]}} | {{crosstab_sex['female'][0] + crosstab_sex['male'][0]}}\n",
    "**Survived** | {{crosstab_sex['female'][1]}}  | {{crosstab_sex['male'][1]}} | {{crosstab_sex['female'][1] + crosstab_sex['male'][1]}}\n",
    "**Total** | {{crosstab_sex['female'][0] + crosstab_sex['female'][1]}} | {{crosstab_sex['male'][0] + crosstab_sex['male'][1]}} | {{crosstab_class.sum().sum()}}\n",
    "\n",
    "\n",
    "# Statistical Test "
   ]
  },
  {
   "cell_type": "markdown",
   "metadata": {},
   "source": [
    "From the mosaic plots and the contingency tables it would seem that indeed people from different class as well as different sex have diferent chance of survival. Below is the full anlysis :"
   ]
  },
  {
   "cell_type": "code",
   "execution_count": 104,
   "metadata": {
    "collapsed": false
   },
   "outputs": [],
   "source": [
    "from scipy.stats import chisquare\n",
    "\n",
    "# Format class frequencies to be given as input to the chisquare function of the scipy.stats module\n",
    "class_survived_frequencies = crosstab_class.as_matrix().flatten() / [ crosstab_class[1][0] + crosstab_class[1][1], \n",
    "                                                                      crosstab_class[2][0] + crosstab_class[2][1], \n",
    "                                                                      crosstab_class[3][0] + crosstab_class[3][1], \n",
    "                                                                      crosstab_class[1][0] + crosstab_class[1][1], \n",
    "                                                                      crosstab_class[2][0] + crosstab_class[2][1], \n",
    "                                                                      crosstab_class[3][0] + crosstab_class[3][1] ]\n",
    "class_survived_frequencies = class_survived_frequencies * 100\n",
    "\n",
    "# Compute expected frequencies for the Pclass variable\n",
    "class_expected_frequencies = np.multiply(np.reshape(np.array([crosstab_class[1][0] + crosstab_class[2][0] + crosstab_class[3][0], crosstab_class[1][1] + crosstab_class[2][1] + crosstab_class[3][1]]), (2,1)), \\\n",
    "                                         np.reshape(np.array([crosstab_class[1][0] + crosstab_class[1][1], crosstab_class[2][0] + crosstab_class[2][1], crosstab_class[3][0] + crosstab_class[3][1]]),(1,3)))\n",
    "class_expected_frequencies = class_expected_frequencies / crosstab_class.sum().sum()\n",
    "class_expected_frequencies = class_expected_frequencies.flatten()\n",
    "\n",
    "\n",
    "# Format sex frequencies to be given as input to the chisquare function of the scipy.stats module\n",
    "sex_survived_frequencies = crosstab_sex.as_matrix().flatten() / [ crosstab_sex['female'][0] + crosstab_sex['female'][1], \n",
    "                                                                  crosstab_sex['male'][0] + crosstab_sex['male'][1], \n",
    "                                                                  crosstab_sex['female'][0] + crosstab_sex['female'][1], \n",
    "                                                                  crosstab_sex['male'][0] + crosstab_sex['male'][1] ]\n",
    "\n",
    "sex_survived_frequencies = sex_survived_frequencies * 100\n",
    "\n",
    "# Compute expected frequencies for the sex variable\n",
    "sex_expected_frequencies = np.multiply(np.reshape(np.array([crosstab_sex['female'][0] + crosstab_sex['male'][0], crosstab_sex['female'][1] + crosstab_sex['male'][1] ]), (2,1)), \\\n",
    "                                         np.reshape(np.array([crosstab_sex['female'][0] + crosstab_sex['female'][1], crosstab_sex['male'][0] + crosstab_sex['male'][1] ]),(1,2)))\n",
    "sex_expected_frequencies = sex_expected_frequencies / crosstab_class.sum().sum()\n",
    "sex_expected_frequencies = sex_expected_frequencies.flatten()\n",
    "\n",
    "\n",
    "# Compute the t-statistics and the p-values for both tests\n",
    "chisq_class, p_class  = chisquare(class_survived_frequencies, class_expected_frequencies)\n",
    "chisq_sex, p_sex  = chisquare(sex_survived_frequencies, sex_expected_frequencies)"
   ]
  },
  {
   "cell_type": "markdown",
   "metadata": {
    "variables": {
     "  p_sex  ": "3.6502092493238617e-15",
     " p_class ": "5.0833367634390336e-07",
     " str(round(chisq_class,3))": "37.355",
     " str(round(chisq_sex,3))": "70.317"
    }
   },
   "source": [
    "T t-statistic found for the test about the Pclas variable is {{ str(round(chisq_class,3))}} and the corresponding p value is {{ p_class }}\n",
    "\n",
    "T t-statistic found for the test about the Sex variable is {{ str(round(chisq_sex,3))}} and the corresponding p value is {{  p_sex  }}"
   ]
  },
  {
   "cell_type": "markdown",
   "metadata": {},
   "source": [
    "# Results Interpretation\n",
    "\n",
    "For the significance level chosen (0.1) and the degree of freedom of our test (2) the critical p value is 0.020. the critical p value was found using [this](http://sites.stat.psu.edu/~mga/401/tables/Chi-square-table.pdf) table. \n",
    "\n",
    "We can observe that the p values computed for both test are well below the critical p value so we can reject the null hypothesis in both cases and claim that the *Pclass* variable and the *Survived* variable are dependent as well as the *Sex* variable and the *Survived* variable.\n",
    "\n",
    "This result confirm my expectation that members of different class are not treated equally as well as people from different sex. Further explorations could investigate what cause this difference especially for members of different class. One explanation could be that the first class has many more female members that the the second and the third class.\n",
    "\n",
    "# Going further"
   ]
  },
  {
   "cell_type": "code",
   "execution_count": 65,
   "metadata": {
    "collapsed": false
   },
   "outputs": [
    {
     "data": {
      "text/plain": [
       "<matplotlib.text.Text at 0x10f333470>"
      ]
     },
     "execution_count": 65,
     "metadata": {},
     "output_type": "execute_result"
    },
    {
     "data": {
      "image/png": "[encoded data removed]",
      "text/plain": [
       "<matplotlib.figure.Figure at 0x111cd1208>"
      ]
     },
     "metadata": {},
     "output_type": "display_data"
    }
   ],
   "source": [
    "# Compute a cross-tabulation of Survived and Pclass variables\n",
    "crosstab_class_sex = pd.crosstab(reduce_titanic_data['Survived'], reduce_titanic_data['Pclass'])\n",
    "\n",
    "fig = plt.figure(figsize=(15,5))\n",
    "ax = plt.subplot(131)\n",
    "mos1 = mosaic(reduce_titanic_data, ['Pclass', 'Sex'], title='Proportion of female and male members by PClass', ax=ax)\n",
    "ax.set_xlabel('Class')\n",
    "ax.set_ylabel('Sex')"
   ]
  },
  {
   "cell_type": "markdown",
   "metadata": {},
   "source": [
    "Indeed the first class contain more female members that the other class but not in the same proportions that the rate of survival in this class. Additional factors (social status, children...) might contribute to the gap in proportions between the different class."
   ]
  },
  {
   "cell_type": "markdown",
   "metadata": {},
   "source": [
    "# References\n",
    "\n",
    "* http://sites.stat.psu.edu/~mga/401/tables/Chi-square-table.pdf\n",
    "* https://en.wikipedia.org/wiki/Chi-squared_test\n",
    "* http://matplotlib.org/users/gridspec.html\n"
   ]
  }
 ],
 "metadata": {
  "kernelspec": {
   "display_name": "Python 3",
   "language": "python",
   "name": "python3"
  },
  "language_info": {
   "codemirror_mode": {
    "name": "ipython",
    "version": 3
   },
   "file_extension": ".py",
   "mimetype": "text/x-python",
   "name": "python",
   "nbconvert_exporter": "python",
   "pygments_lexer": "ipython3",
   "version": "3.5.1"
  }
 },
 "nbformat": 4,
 "nbformat_minor": 0
}
